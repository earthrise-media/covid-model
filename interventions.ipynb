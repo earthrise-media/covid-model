{
 "cells": [
  {
   "cell_type": "code",
   "execution_count": 1,
   "metadata": {},
   "outputs": [],
   "source": [
    "import numpy as np\n",
    "import pprint\n",
    "import sympy as sym\n",
    "\n",
    "pp = pprint.PrettyPrinter(indent=4)"
   ]
  },
  {
   "cell_type": "code",
   "execution_count": 125,
   "metadata": {},
   "outputs": [],
   "source": [
    "AGE_COHORTS = ['0-19', '20-59', '60+']\n",
    "\n",
    "# population fractions by region\n",
    "WORLD_POP = {\n",
    "    'Africa': [.507, .438, .055],\n",
    "    'America': [.293, .541, .166],\n",
    "    'Asia': [.312, .558, .131],\n",
    "    'Europe': [.211, .532, .257]\n",
    "}\n",
    "\n",
    "# UK data from the POLYMOD survey for the above age cohorts\n",
    "SAMPLES = np.array([385, 504, 122])  \n",
    "CONTACT_DATA = np.array([\n",
    "    [7.86, 5.22, 0.5], [2.37, 7.69, 1.06], [1.19, 5.38, 1.92]])\n",
    "\n",
    "# Empirical disease propagation parameters in the absence of non-pharmacological intervention: \n",
    "GAMMA = 1/6.3\n",
    "R0 = 2.6"
   ]
  },
  {
   "cell_type": "markdown",
   "metadata": {},
   "source": [
    "A contact matrix (here, $c_{ij}$) describes the average number of daily contacts an individual in population cohort $i$ makes with people in cohort $j$. Logically contacts should be symmetric, in the sense that the total number of daily contacts made by members of cohort $i$ with members of cohort $j$ should be equal to the number of contacts by cohort $j$ with cohort $i$. Which is to say, given $c_{ij}$ and a vector of population fractions $f_i$,\n",
    "\n",
    "$$ c_{ij} f_i = c_{ji} f_j. $$\n",
    "\n",
    "Because of variability in sampling, this doesn't hold for the above UK data, nor will it hold if we extrapolate the \n",
    "UK data to the rest of the world, but we can enforce the condition by making \n",
    "a population-weighted average the $(i,j)$ and $(j,i)$ elements of the sampled data; cf. the function symmetrize() below.\n",
    "\n",
    "--- \n",
    "\n",
    "The basic reproduction rate $R_0$ is given by the largest eigenvalue of the matrix\n",
    "\n",
    "$$ \\frac{\\beta}{\\gamma} c_{ij} \\frac{f_i}{f_j},$$\n",
    "\n",
    "i.e. \n",
    "\n",
    "$$ R_0 = \\rho\\left(\\frac{\\beta}{\\gamma} c_{ij} \\frac{f_i}{f_j}\\right),$$\n",
    "\n",
    "where $\\rho$ denotes the spectral bound (cf. [this discussion](http://sherrytowers.com/2012/12/11/sir-model-with-age-classes/#r0) and references therein). The parameter $\\beta$ is the transmissibility - the probability of disease transmission given a contact between two people - and $\\gamma$ is the inverse\n",
    "duration of infection. We will use the above relation to estimate beta given the other parameters. As an intermediate step we will need to compute \n",
    "\n",
    "$$ m_{ij} =  c_{ij} \\frac{f_i}{f_j},$$\n",
    "\n",
    "which is the output of the function weight()."
   ]
  },
  {
   "cell_type": "code",
   "execution_count": 131,
   "metadata": {},
   "outputs": [],
   "source": [
    "def symmetrize(pop_fracs, contact_data=CONTACT_DATA):\n",
    "    \"\"\"Construct a symmetric contact matrix from empirical data.\"\"\"\n",
    "    f = pop_fracs.copy()\n",
    "    d = contact_data.copy()\n",
    "    c = np.zeros((len(f), len(f)))\n",
    "\n",
    "    for i in range(len(f)):\n",
    "        for j in range(len(f)):\n",
    "            c[i,j] = (d[i,j]*f[i] + d[j,i]*f[j])/(2*f[i])\n",
    "    return c\n",
    "\n",
    "def weight(pop_fracs, contact_matrix):\n",
    "    \"\"\"Weight a contact matrix by population fractions.\"\"\" \n",
    "    f = pop_fracs.copy()\n",
    "    c = contact_matrix.copy()\n",
    "    m = np.zeros((len(f), len(f)))\n",
    "\n",
    "    for i in range(len(f)):\n",
    "        for j in range(len(f)):\n",
    "            m[i,j] = c[i,j]*f[i]/f[j]\n",
    "    return m\n",
    "\n",
    "def est_beta(pop_fracs, contact_matrix, r0, gamma):\n",
    "    \"\"\"Estimate disease transmissibility from known disease parameters.\"\"\"\n",
    "    m = weight(pop_fracs, contact_matrix)\n",
    "    return r0*GAMMA / np.linalg.eigvals(m).max()\n",
    "\n",
    "def compute_R(pop_fracs, contact_matrix, beta, gamma):\n",
    "    \"\"\"Compute an effective reproduction rates from known disease parameters.\"\"\"\n",
    "    m = weight(pop_fracs, contact_matrix)\n",
    "    return np.round(beta*np.linalg.eigvals(m).max() / gamma, 2)"
   ]
  },
  {
   "cell_type": "markdown",
   "metadata": {},
   "source": [
    "### Basic transmissibility\n",
    "\n",
    "In the absence of interventions, we have:"
   ]
  },
  {
   "cell_type": "code",
   "execution_count": 138,
   "metadata": {},
   "outputs": [
    {
     "name": "stdout",
     "output_type": "stream",
     "text": [
      "Basic contact matrices:\n",
      "{   'Africa': array([[7.86      , 3.63372781, 0.31454635],\n",
      "       [4.20616438, 7.69      , 0.86778539],\n",
      "       [2.89954545, 6.91072727, 1.92      ]]),\n",
      "    'America': array([[7.86      , 4.79800341, 0.58709898],\n",
      "       [2.59854898, 7.69      , 1.35539741],\n",
      "       [1.03626506, 4.41728916, 1.92      ]]),\n",
      "    'Asia': array([[7.86      , 4.72932692, 0.49982372],\n",
      "       [2.64435484, 7.69      , 1.1615233 ],\n",
      "       [1.19041985, 4.94755725, 1.92      ]]),\n",
      "    'Europe': array([[7.86      , 5.59777251, 0.97471564],\n",
      "       [2.22016917, 7.69      , 1.82949248],\n",
      "       [0.80025292, 3.78712062, 1.92      ]])}\n",
      "Basic transmissibility:\n",
      "{   'Africa': 0.03369373971540847,\n",
      "    'America': 0.03486895609630246,\n",
      "    'Asia': 0.034908042242583856,\n",
      "    'Europe': 0.034609209469435485}\n"
     ]
    }
   ],
   "source": [
    "c0s = {region: symmetrize(f) for region, f in WORLD_POP.items()}\n",
    "m0s = {region: weight(f, c0s[region]) for region, f in WORLD_POP.items()}\n",
    "beta0s = {region: est_beta(f, c0s[region], R0, GAMMA) for region, f in WORLD_POP.items()}\n",
    "print('Basic contact matrices:')\n",
    "pp.pprint(c0s)\n",
    "print('Basic transmissibility:')\n",
    "pp.pprint(beta0s)"
   ]
  },
  {
   "cell_type": "markdown",
   "metadata": {},
   "source": [
    "In a vanilla SEIR model, without age structure, there is a parameter commonly denoted $\\beta$ which incorporates both the transmissibility (probability of transmission given a contact) and an individual's average number of daily contacts. For the Covid-19 epidemic it is expected to be $\\sim .4$. In the present model this works out to: "
   ]
  },
  {
   "cell_type": "code",
   "execution_count": 133,
   "metadata": {},
   "outputs": [
    {
     "name": "stdout",
     "output_type": "stream",
     "text": [
      "Africa\n",
      "Average daily contacts: 12.2\n",
      "Corresponding beta of vanilla SEIR: 0.41\n",
      "America\n",
      "Average daily contacts: 11.4\n",
      "Corresponding beta of vanilla SEIR: 0.40\n",
      "Asia\n",
      "Average daily contacts: 11.6\n",
      "Corresponding beta of vanilla SEIR: 0.40\n",
      "Europe\n",
      "Average daily contacts: 11.0\n",
      "Corresponding beta of vanilla SEIR: 0.38\n"
     ]
    }
   ],
   "source": [
    "for region, f in WORLD_POP.items():\n",
    "    avg_daily_contacts = np.sum(np.dot(f, c0s[region]))\n",
    "    vanilla_beta = beta0s[region]*avg_daily_contacts\n",
    "    print(region)\n",
    "    print('Average daily contacts: {:.1f}'.format(avg_daily_contacts))\n",
    "    print('Corresponding beta of vanilla SEIR: {:.2f}'.format(vanilla_beta))"
   ]
  },
  {
   "cell_type": "markdown",
   "metadata": {},
   "source": [
    "# Interventions"
   ]
  },
  {
   "cell_type": "markdown",
   "metadata": {},
   "source": [
    "## First class\n",
    "These interventions we model via an overall reduction in contacts, applied equally across age cohorts as \n",
    "a multiplicative factor $\\chi < 1$ on the contact matrix. The multiple propagates straight through the eigenvalue computation.\n",
    "\n",
    "1. Self-isolation and household quarantine. Observed reduction in R0: 37%. $\\chi = .63.$\n",
    "2. Self-isolation and extended contact tracing and quarantine. Observed reduction in R0: 52%. $\\chi = .48.$\n",
    "3. Cancellation of mass gatherings. Observed reduction in R0: 28%. $\\chi = .72$.\n",
    "4. Shelter in place. Observed reduction in R0 (conservative estimate): 66%. $\\chi = .34$.\n",
    "\n",
    "Resulting contact matrices:"
   ]
  },
  {
   "cell_type": "code",
   "execution_count": 42,
   "metadata": {},
   "outputs": [],
   "source": [
    "interventions = {\n",
    "    'Quarantine': {'chi': .63},\n",
    "    'Quarantine and tracing': {'chi': .48},\n",
    "    'Cancel mass gatherings': {'chi': .72},\n",
    "    'Shelter in place': {'chi': .34}\n",
    "}"
   ]
  },
  {
   "cell_type": "markdown",
   "metadata": {},
   "source": [
    "## Second class \n",
    "These inventions are age-structured.\n",
    "5. School closures. Observed reduction in R0: 18%.\n",
    "6. Shielding the elderly. Assumed decrease in contacts between elderly and others of 50%. \n",
    "\n",
    "Mathematically we express the impact as a list of contact matrix _indices_ and a multiplicative factor $\\xi$\n",
    "to be applied to the corresponding matrix entries."
   ]
  },
  {
   "cell_type": "markdown",
   "metadata": {},
   "source": [
    "### School closures\n",
    "We make the simplifying assumption that the primary effect is to reduce interactions among the youngest\n",
    "age cohort. Reducing the youth-youth contact to zero leads to a reduction in R0 of 16-17%, depending on region. Any futher reduction would involve assumptions about the effects of school closure on mixing for the middle and elderly cohorts or revision of the original contact data to better mirror the dynamics where the 18% reduction was observed."
   ]
  },
  {
   "cell_type": "code",
   "execution_count": 134,
   "metadata": {},
   "outputs": [
    {
     "name": "stdout",
     "output_type": "stream",
     "text": [
      "Effective contact matrices under school closure:\n",
      "{   'Africa': array([[0.        , 3.63372781, 0.31454635],\n",
      "       [4.20616438, 7.69      , 0.86778539],\n",
      "       [2.89954545, 6.91072727, 1.92      ]]),\n",
      "    'America': array([[0.        , 4.79800341, 0.58709898],\n",
      "       [2.59854898, 7.69      , 1.35539741],\n",
      "       [1.03626506, 4.41728916, 1.92      ]]),\n",
      "    'Asia': array([[0.        , 4.72932692, 0.49982372],\n",
      "       [2.64435484, 7.69      , 1.1615233 ],\n",
      "       [1.19041985, 4.94755725, 1.92      ]]),\n",
      "    'Europe': array([[0.        , 5.59777251, 0.97471564],\n",
      "       [2.22016917, 7.69      , 1.82949248],\n",
      "       [0.80025292, 3.78712062, 1.92      ]])}\n",
      "Effective R0:\n",
      "{'Africa': 2.16, 'America': 2.17, 'Asia': 2.17, 'Europe': 2.18}\n",
      "Fractional reductions in R0:\n",
      "{'Africa': 0.169, 'America': 0.165, 'Asia': 0.165, 'Europe': 0.162}\n"
     ]
    }
   ],
   "source": [
    "impact = {'xi': 0, 'indices': [(0,0)]}\n",
    "\n",
    "c_effs, R_effs = {}, {}\n",
    "for region, f in WORLD_POP.items():\n",
    "    c = c0s[region].copy()\n",
    "    for idx_pair in impact.get('indices', []):\n",
    "        c[idx_pair] *= impact.get('xi', 1)\n",
    "    c_effs.update({region: c})\n",
    "    R_effs.update({region: compute_R(f, c, beta0s[region], GAMMA)})\n",
    "    \n",
    "print('Effective contact matrices under school closure:')\n",
    "pp.pprint(c_effs)\n",
    "print('Effective R0:')\n",
    "pp.pprint(R_effs)\n",
    "print('Fractional reductions in R0:')\n",
    "reductions = {region: np.round((R0-R_effs[region])/R0, 3) for region in WORLD_POP}\n",
    "pp.pprint(reductions)\n",
    "\n",
    "interventions.update({'School closure': impact})"
   ]
  },
  {
   "cell_type": "markdown",
   "metadata": {},
   "source": [
    "### Shielding the elderly\n"
   ]
  },
  {
   "cell_type": "code",
   "execution_count": 135,
   "metadata": {},
   "outputs": [
    {
     "name": "stdout",
     "output_type": "stream",
     "text": [
      "Effective contact matrices under shielding the elderly:\n",
      "{   'Africa': array([[7.86      , 3.63372781, 0.15727318],\n",
      "       [4.20616438, 7.69      , 0.43389269],\n",
      "       [1.44977273, 3.45536364, 0.96      ]]),\n",
      "    'America': array([[7.86      , 4.79800341, 0.29354949],\n",
      "       [2.59854898, 7.69      , 0.67769871],\n",
      "       [0.51813253, 2.20864458, 0.96      ]]),\n",
      "    'Asia': array([[7.86      , 4.72932692, 0.24991186],\n",
      "       [2.64435484, 7.69      , 0.58076165],\n",
      "       [0.59520992, 2.47377863, 0.96      ]]),\n",
      "    'Europe': array([[7.86      , 5.59777251, 0.48735782],\n",
      "       [2.22016917, 7.69      , 0.91474624],\n",
      "       [0.40012646, 1.89356031, 0.96      ]])}\n",
      "Effective R0:\n",
      "{'Africa': 2.51, 'America': 2.51, 'Asia': 2.51, 'Europe': 2.5}\n",
      "Fractional reductions in R0:\n",
      "{'Africa': 0.035, 'America': 0.035, 'Asia': 0.035, 'Europe': 0.038}\n"
     ]
    }
   ],
   "source": [
    "elderly_entries = [(0,-1), (1,-1), (-1,0), (-1,1), (-1,-1)] \n",
    "impact = {'xi': .5, 'indices': elderly_entries}\n",
    "\n",
    "c_effs, R_effs = {}, {}\n",
    "for region, f in WORLD_POP.items():\n",
    "    c = c0s[region].copy()\n",
    "    for idx_pair in impact.get('indices', []):\n",
    "        c[idx_pair] *= impact.get('xi', 1)\n",
    "    c_effs.update({region: c})\n",
    "    R_effs.update({region: compute_R(f, c, beta0s[region], GAMMA)})\n",
    "    \n",
    "print('Effective contact matrices under shielding the elderly:')\n",
    "pp.pprint(c_effs)\n",
    "print('Effective R0:')\n",
    "pp.pprint(R_effs)\n",
    "print('Fractional reductions in R0:')\n",
    "reductions = {region: np.round((R0-R_effs[region])/R0, 3) for region in WORLD_POP}\n",
    "pp.pprint(reductions)\n",
    "\n",
    "interventions.update({'Shielding the elderly': impact})"
   ]
  },
  {
   "cell_type": "code",
   "execution_count": 136,
   "metadata": {},
   "outputs": [
    {
     "name": "stdout",
     "output_type": "stream",
     "text": [
      "{   'Cancel mass gatherings': {'chi': 0.72},\n",
      "    'Quarantine': {'chi': 0.63},\n",
      "    'Quarantine and tracing': {'chi': 0.48},\n",
      "    'School closure': {'indices': [(0, 0)], 'xi': 0},\n",
      "    'Shelter in place': {'chi': 0.34},\n",
      "    'Shielding the elderly': {   'indices': [   (0, -1),\n",
      "                                                (1, -1),\n",
      "                                                (-1, 0),\n",
      "                                                (-1, 1),\n",
      "                                                (-1, -1)],\n",
      "                                 'xi': 0.5}}\n"
     ]
    }
   ],
   "source": [
    "pp.pprint(interventions)"
   ]
  },
  {
   "cell_type": "markdown",
   "metadata": {},
   "source": [
    "## Combinations of interventions\n",
    "\n",
    "We assume that interventions act independently, so that each added intervention imposes an additional fractional reduction to the effective contact matrix."
   ]
  },
  {
   "cell_type": "code",
   "execution_count": 137,
   "metadata": {},
   "outputs": [
    {
     "name": "stdout",
     "output_type": "stream",
     "text": [
      "['School closure', 'Shielding the elderly']\n",
      "R_effs: {'Africa': 2.02, 'America': 2.03, 'Asia': 2.04, 'Europe': 2.03}\n",
      "\n",
      "['Quarantine', 'School closure']\n",
      "R_effs: {'Africa': 1.36, 'America': 1.37, 'Asia': 1.37, 'Europe': 1.38}\n",
      "\n",
      "['Quarantine and tracing', 'School closure']\n",
      "R_effs: {'Africa': 1.04, 'America': 1.04, 'Asia': 1.04, 'Europe': 1.05}\n",
      "\n",
      "['Quarantine and tracing', 'School closure', 'Cancel mass gatherings']\n",
      "R_effs: {'Africa': 0.75, 'America': 0.75, 'Asia': 0.75, 'Europe': 0.75}\n",
      "\n",
      "['Quarantine and tracing', 'School closure', 'Cancel mass gatherings', 'Shielding the elderly']\n",
      "R_effs: {'Africa': 0.7, 'America': 0.7, 'Asia': 0.7, 'Europe': 0.7}\n",
      "\n",
      "['Shelter in place']\n",
      "R_effs: {'Africa': 0.88, 'America': 0.88, 'Asia': 0.88, 'Europe': 0.88}\n",
      "\n"
     ]
    }
   ],
   "source": [
    "def combine(selected, interventions, contact_matrix):\n",
    "    \"\"\"Apply selected interventions to a basic contact matrix.\"\"\"\n",
    "    c_eff = contact_matrix.copy()\n",
    "    for s in selected:\n",
    "        impact = interventions.get(s, {})\n",
    "        c_eff *= impact.get('chi', 1)\n",
    "        for idx_pair in impact.get('indices', []):\n",
    "            c_eff[idx_pair] *= impact.get('xi', 1)\n",
    "    return c_eff\n",
    "\n",
    "ex_combos = [['School closure', 'Shielding the elderly'],\n",
    "             ['Quarantine', 'School closure'], \n",
    "             ['Quarantine and tracing', 'School closure'],\n",
    "             ['Quarantine and tracing', 'School closure', 'Cancel mass gatherings'],\n",
    "             ['Quarantine and tracing', 'School closure', 'Cancel mass gatherings', 'Shielding the elderly'],\n",
    "             ['Shelter in place']]\n",
    "\n",
    "for combo in ex_combos:\n",
    "    print(combo)\n",
    "    c_effs, R_effs = {}, {}\n",
    "    for region, f in WORLD_POP.items():\n",
    "        c_effs.update({region: combine(combo, interventions, c0s[region])})\n",
    "        R_effs.update({region: compute_R(f, c_effs[region], beta0s[region], GAMMA)})\n",
    "    #print(f'c_effs: {c_effs}\\n')\n",
    "    print(f'R_effs: {R_effs}\\n')"
   ]
  },
  {
   "cell_type": "code",
   "execution_count": null,
   "metadata": {},
   "outputs": [],
   "source": []
  }
 ],
 "metadata": {
  "kernelspec": {
   "display_name": "Python 3",
   "language": "python",
   "name": "python3"
  },
  "language_info": {
   "codemirror_mode": {
    "name": "ipython",
    "version": 3
   },
   "file_extension": ".py",
   "mimetype": "text/x-python",
   "name": "python",
   "nbconvert_exporter": "python",
   "pygments_lexer": "ipython3",
   "version": "3.7.4"
  }
 },
 "nbformat": 4,
 "nbformat_minor": 2
}
