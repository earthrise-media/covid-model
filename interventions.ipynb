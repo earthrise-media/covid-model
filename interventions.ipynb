{
 "cells": [
  {
   "cell_type": "code",
   "execution_count": 3,
   "metadata": {},
   "outputs": [],
   "source": [
    "import numpy as np\n",
    "import pprint\n",
    "import sympy as sym\n",
    "\n",
    "pp = pprint.PrettyPrinter(indent=4)"
   ]
  },
  {
   "cell_type": "code",
   "execution_count": 4,
   "metadata": {},
   "outputs": [],
   "source": [
    "AGE_COHORTS = ['0-19', '20-59', '60+']\n",
    "\n",
    "# population fractions by region\n",
    "WORLD_POP = {\n",
    "    'Africa': [.507, .438, .055],\n",
    "    'America': [.293, .541, .166],\n",
    "    'Asia': [.312, .558, .131],\n",
    "    'Europe': [.211, .532, .257]\n",
    "}\n",
    "\n",
    "# UK data from the POLYMOD survey for the above age cohorts\n",
    "SAMPLES = np.array([385, 504, 122])  \n",
    "CONTACT_DATA = np.array([\n",
    "    [7.86, 5.22, 0.5], [2.37, 7.69, 1.06], [1.19, 5.38, 1.92]])\n",
    "\n",
    "# Empirical disease propagation parameters in the absence of non-pharmacological intervention: \n",
    "GAMMA = 1/6.3\n",
    "R0 = 2.6"
   ]
  },
  {
   "cell_type": "markdown",
   "metadata": {},
   "source": [
    "A contact matrix (here, $c_{ij}$) describes the average number of daily contacts an individual in population cohort $i$ makes with people in cohort $j$. Logically contacts should satisfy a reciprocity condition, that the total number of daily contacts made by members of cohort $i$ with members of cohort $j$ should be equal to the number of contacts by cohort $j$ with cohort $i$. Which is to say, given $c_{ij}$ and a vector of population fractions $f_i$,\n",
    "\n",
    "$$ c_{ij} f_i = c_{ji} f_j. $$\n",
    "\n",
    "Because of variability in sampling, this doesn't hold for the above UK data, nor will it hold if we extrapolate the \n",
    "UK data to the rest of the world, but we can enforce the condition by making \n",
    "a population-weighted average the $(i,j)$ and $(j,i)$ elements of the sampled data; cf. the function symmetrize() below.\n",
    "\n",
    "--- \n",
    "\n",
    "The basic reproduction rate $R_0$ is given by the largest eigenvalue of the matrix\n",
    "\n",
    "$$ \\frac{\\beta}{\\gamma} c_{ij} \\frac{f_i}{f_j},$$\n",
    "\n",
    "i.e. \n",
    "\n",
    "$$ R_0 = \\rho\\left(\\frac{\\beta}{\\gamma} c_{ij} \\frac{f_i}{f_j}\\right),$$\n",
    "\n",
    "where $\\rho$ denotes the spectral bound (cf. [this discussion](http://sherrytowers.com/2012/12/11/sir-model-with-age-classes/#r0) and references therein). The parameter $\\beta$ is the transmissibility - the probability of disease transmission given a contact between two people - and $\\gamma$ is the inverse\n",
    "duration of infection. We will use the above relation to estimate beta given the other parameters. As an intermediate step we will need to compute \n",
    "\n",
    "$$ m_{ij} =  c_{ij} \\frac{f_i}{f_j},$$\n",
    "\n",
    "which is the output of the function weight()."
   ]
  },
  {
   "cell_type": "code",
   "execution_count": 5,
   "metadata": {},
   "outputs": [],
   "source": [
    "def symmetrize(pop_fracs, contact_data=CONTACT_DATA):\n",
    "    \"\"\"Construct a contact matrix with reciprocity from empirical data.\"\"\"\n",
    "    f = pop_fracs.copy()\n",
    "    d = contact_data.copy()\n",
    "    c = np.zeros((len(f), len(f)))\n",
    "\n",
    "    for i in range(len(f)):\n",
    "        for j in range(len(f)):\n",
    "            c[i,j] = (d[i,j]*f[i] + d[j,i]*f[j])/(2*f[i])\n",
    "    return c\n",
    "\n",
    "def weight(pop_fracs, contact_matrix):\n",
    "    \"\"\"Weight a contact matrix by population fractions.\"\"\" \n",
    "    f = pop_fracs.copy()\n",
    "    c = contact_matrix.copy()\n",
    "    m = np.zeros((len(f), len(f)))\n",
    "\n",
    "    for i in range(len(f)):\n",
    "        for j in range(len(f)):\n",
    "            m[i,j] = c[i,j]*f[i]/f[j]\n",
    "    return m\n",
    "\n",
    "def est_beta(pop_fracs, contact_matrix, r0, gamma):\n",
    "    \"\"\"Estimate disease transmissibility from known disease parameters.\"\"\"\n",
    "    m = weight(pop_fracs, contact_matrix)\n",
    "    return r0*GAMMA / np.linalg.eigvals(m).max()\n",
    "\n",
    "def compute_R(pop_fracs, contact_matrix, beta, gamma):\n",
    "    \"\"\"Compute an effective reproduction rates from known disease parameters.\"\"\"\n",
    "    m = weight(pop_fracs, contact_matrix)\n",
    "    return np.round(beta*np.linalg.eigvals(m).max() / gamma, 2)"
   ]
  },
  {
   "cell_type": "markdown",
   "metadata": {},
   "source": [
    "### Basic transmissibility\n",
    "\n",
    "In the absence of interventions, we have:"
   ]
  },
  {
   "cell_type": "code",
   "execution_count": 42,
   "metadata": {},
   "outputs": [
    {
     "name": "stdout",
     "output_type": "stream",
     "text": [
      "Basic contact matrices:\n",
      "{   'Africa': array([[7.86      , 3.63372781, 0.31454635],\n",
      "       [4.20616438, 7.69      , 0.86778539],\n",
      "       [2.89954545, 6.91072727, 1.92      ]]),\n",
      "    'America': array([[7.86      , 4.79800341, 0.58709898],\n",
      "       [2.59854898, 7.69      , 1.35539741],\n",
      "       [1.03626506, 4.41728916, 1.92      ]]),\n",
      "    'Asia': array([[7.86      , 4.72932692, 0.49982372],\n",
      "       [2.64435484, 7.69      , 1.1615233 ],\n",
      "       [1.19041985, 4.94755725, 1.92      ]]),\n",
      "    'Europe': array([[7.86      , 5.59777251, 0.97471564],\n",
      "       [2.22016917, 7.69      , 1.82949248],\n",
      "       [0.80025292, 3.78712062, 1.92      ]])}\n",
      "Basic transmissibility:\n",
      "{   'Africa': 0.03369373971540847,\n",
      "    'America': 0.03486895609630246,\n",
      "    'Asia': 0.034908042242583856,\n",
      "    'Europe': 0.034609209469435485}\n"
     ]
    }
   ],
   "source": [
    "c0s = {region: symmetrize(f) for region, f in WORLD_POP.items()}\n",
    "m0s = {region: weight(f, c0s[region]) for region, f in WORLD_POP.items()}\n",
    "beta0s = {region: est_beta(f, c0s[region], R0, GAMMA) for region, f in WORLD_POP.items()}\n",
    "print('Basic contact matrices:')\n",
    "pp.pprint(c0s)\n",
    "print('Basic transmissibility:')\n",
    "pp.pprint(beta0s)"
   ]
  },
  {
   "cell_type": "markdown",
   "metadata": {},
   "source": [
    "In a vanilla SEIR model, without age structure, there is a parameter commonly denoted $\\beta$ which incorporates both the transmissibility (probability of transmission given a contact) and an individual's average number of daily contacts. For the Covid-19 epidemic it is expected to be $\\sim .4$. In the present model this works out to: "
   ]
  },
  {
   "cell_type": "code",
   "execution_count": 205,
   "metadata": {},
   "outputs": [
    {
     "name": "stdout",
     "output_type": "stream",
     "text": [
      "Africa\n",
      "Average daily contacts: 12.2\n",
      "Corresponding beta of vanilla SEIR: 0.41\n",
      "America\n",
      "Average daily contacts: 11.4\n",
      "Corresponding beta of vanilla SEIR: 0.40\n",
      "Asia\n",
      "Average daily contacts: 11.6\n",
      "Corresponding beta of vanilla SEIR: 0.40\n",
      "Europe\n",
      "Average daily contacts: 11.0\n",
      "Corresponding beta of vanilla SEIR: 0.38\n"
     ]
    }
   ],
   "source": [
    "for region, f in WORLD_POP.items():\n",
    "    avg_daily_contacts = np.sum(np.dot(f, c0s[region]))\n",
    "    vanilla_beta = beta0s[region]*avg_daily_contacts\n",
    "    print(region)\n",
    "    print('Average daily contacts: {:.1f}'.format(avg_daily_contacts))\n",
    "    print('Corresponding beta of vanilla SEIR: {:.2f}'.format(vanilla_beta))"
   ]
  },
  {
   "cell_type": "markdown",
   "metadata": {},
   "source": [
    "# Interventions"
   ]
  },
  {
   "cell_type": "markdown",
   "metadata": {},
   "source": [
    "## First class\n",
    "These interventions we model via an overall reduction in contacts, applied equally across age cohorts as \n",
    "a multiplicative factor $\\chi < 1$ on the contact matrix. The multiple propagates straight through the eigenvalue computation.\n",
    "\n",
    "1. Self-isolation and household quarantine. Observed reduction in R0: 37%. $\\chi = .63.$\n",
    "2. Self-isolation and extended contact tracing and quarantine. Observed reduction in R0: 52%. $\\chi = .48.$\n",
    "3. Cancellation of mass gatherings. Observed reduction in R0: 28%. $\\chi = .72$.\n",
    "4. Shelter in place. Observed reduction in R0 (conservative estimate): 66%. $\\chi = .34$.\n",
    "\n",
    "Resulting contact matrices:"
   ]
  },
  {
   "cell_type": "code",
   "execution_count": 29,
   "metadata": {},
   "outputs": [],
   "source": [
    "npi_impacts = {\n",
    "    'Quarantine': {'chi': .63},\n",
    "    'Quarantine and tracing': {'chi': .48},\n",
    "    'Cancel mass gatherings': {'chi': .72},\n",
    "    'Shelter in place': {'chi': .34}\n",
    "}"
   ]
  },
  {
   "cell_type": "markdown",
   "metadata": {},
   "source": [
    "## Second class \n",
    "These inventions are age-structured.\n",
    "5. School closures. We follow the per-cohort changes in contact rates from [Litvinova et al](https://www.pnas.org/content/116/27/13174).\n",
    "6. Shielding the elderly. Assumed decrease in contacts between elderly and others of 50%. "
   ]
  },
  {
   "cell_type": "markdown",
   "metadata": {},
   "source": [
    "### School closures"
   ]
  },
  {
   "cell_type": "code",
   "execution_count": 43,
   "metadata": {},
   "outputs": [
    {
     "name": "stdout",
     "output_type": "stream",
     "text": [
      "Effective contact matrices under school closure:\n",
      "{   'Africa': array([[1.965     , 2.90698225, 0.47811045],\n",
      "       [3.36493151, 5.6906    , 0.86778539],\n",
      "       [4.40730909, 6.91072727, 1.92      ]]),\n",
      "    'America': array([[1.965     , 3.83840273, 0.89239044],\n",
      "       [2.07883919, 5.6906    , 1.35539741],\n",
      "       [1.57512289, 4.41728916, 1.92      ]]),\n",
      "    'Asia': array([[1.965     , 3.78346154, 0.75973205],\n",
      "       [2.11548387, 5.6906    , 1.1615233 ],\n",
      "       [1.80943817, 4.94755725, 1.92      ]]),\n",
      "    'Europe': array([[1.965     , 4.47821801, 1.48156777],\n",
      "       [1.77613534, 5.6906    , 1.82949248],\n",
      "       [1.21638444, 3.78712062, 1.92      ]])}\n",
      "Effective R0:\n",
      "{'Africa': 1.84, 'America': 1.84, 'Asia': 1.83, 'Europe': 1.86}\n",
      "Fractional reductions in R0:\n",
      "{'Africa': 0.292, 'America': 0.292, 'Asia': 0.296, 'Europe': 0.285}\n"
     ]
    }
   ],
   "source": [
    "impact = {'cohort_chi': [[.25, .8, 1.52],\n",
    "                        [.8, .74, 1],\n",
    "                        [1.52, 1, 1]]}\n",
    "\n",
    "c_effs, R_effs = {}, {}\n",
    "for region, f in WORLD_POP.items():\n",
    "    c = c0s[region].copy()\n",
    "    c *= impact['cohort_chi']\n",
    "    c_effs.update({region: c})\n",
    "    R_effs.update({region: compute_R(f, c, beta0s[region], GAMMA)})\n",
    "    \n",
    "print('Effective contact matrices under school closure:')\n",
    "pp.pprint(c_effs)\n",
    "print('Effective R0:')\n",
    "pp.pprint(R_effs)\n",
    "print('Fractional reductions in R0:')\n",
    "reductions = {region: np.round((R0-R_effs[region])/R0, 3) for region in WORLD_POP}\n",
    "pp.pprint(reductions)\n",
    "\n",
    "npi_impacts.update({'School closure': impact})"
   ]
  },
  {
   "cell_type": "markdown",
   "metadata": {},
   "source": [
    "### Shielding the elderly"
   ]
  },
  {
   "cell_type": "code",
   "execution_count": 40,
   "metadata": {},
   "outputs": [
    {
     "name": "stdout",
     "output_type": "stream",
     "text": [
      "Effective contact matrices under shielding the elderly:\n",
      "{   'Africa': array([[7.86      , 3.63372781, 0.15727318],\n",
      "       [4.20616438, 7.69      , 0.43389269],\n",
      "       [1.44977273, 3.45536364, 0.96      ]]),\n",
      "    'America': array([[7.86      , 4.79800341, 0.29354949],\n",
      "       [2.59854898, 7.69      , 0.67769871],\n",
      "       [0.51813253, 2.20864458, 0.96      ]]),\n",
      "    'Asia': array([[7.86      , 4.72932692, 0.24991186],\n",
      "       [2.64435484, 7.69      , 0.58076165],\n",
      "       [0.59520992, 2.47377863, 0.96      ]]),\n",
      "    'Europe': array([[7.86      , 5.59777251, 0.48735782],\n",
      "       [2.22016917, 7.69      , 0.91474624],\n",
      "       [0.40012646, 1.89356031, 0.96      ]])}\n",
      "Effective R0:\n",
      "{'Africa': 2.51, 'America': 2.51, 'Asia': 2.51, 'Europe': 2.5}\n",
      "Fractional reductions in R0:\n",
      "{'Africa': 0.035, 'America': 0.035, 'Asia': 0.035, 'Europe': 0.038}\n"
     ]
    }
   ],
   "source": [
    "impact = {'cohort_chi': [[1, 1, .5],\n",
    "                         [1, 1, .5],\n",
    "                         [.5, .5, .5]]}\n",
    "\n",
    "c_effs, R_effs = {}, {}\n",
    "for region, f in WORLD_POP.items():\n",
    "    c = c0s[region].copy()\n",
    "    c *= impact['cohort_chi']\n",
    "    c_effs.update({region: c})\n",
    "    R_effs.update({region: compute_R(f, c, beta0s[region], GAMMA)})\n",
    "    \n",
    "print('Effective contact matrices under shielding the elderly:')\n",
    "pp.pprint(c_effs)\n",
    "print('Effective R0:')\n",
    "pp.pprint(R_effs)\n",
    "print('Fractional reductions in R0:')\n",
    "reductions = {region: np.round((R0-R_effs[region])/R0, 3) for region in WORLD_POP}\n",
    "pp.pprint(reductions)\n",
    "\n",
    "npi_impacts.update({'Shielding the elderly': impact})"
   ]
  },
  {
   "cell_type": "code",
   "execution_count": 38,
   "metadata": {},
   "outputs": [
    {
     "name": "stdout",
     "output_type": "stream",
     "text": [
      "{   'Cancel mass gatherings': {'chi': 0.72},\n",
      "    'Quarantine': {'chi': 0.63},\n",
      "    'Quarantine and tracing': {'chi': 0.48},\n",
      "    'School closure': {   'cohort_chi': [   [0.25, 0.8, 1.52],\n",
      "                                            [0.8, 0.74, 1],\n",
      "                                            [1.52, 1, 1]]},\n",
      "    'Shelter in place': {'chi': 0.34},\n",
      "    'Shielding the elderly': {   'cohort_chi': [   [1, 1, 0.5],\n",
      "                                                   [1, 1, 0.5],\n",
      "                                                   [0.5, 0.5, 0.5]]}}\n"
     ]
    }
   ],
   "source": [
    "pp.pprint(npi_impacts)"
   ]
  },
  {
   "cell_type": "markdown",
   "metadata": {},
   "source": [
    "## Combinations of interventions\n",
    "\n",
    "We assume that interventions act independently, so that each added intervention imposes an additional fractional reduction to the effective contact matrix."
   ]
  },
  {
   "cell_type": "code",
   "execution_count": 41,
   "metadata": {},
   "outputs": [
    {
     "name": "stdout",
     "output_type": "stream",
     "text": [
      "['School closure', 'Shielding the elderly']\n",
      "R_effs: {'Africa': 1.65, 'America': 1.65, 'Asia': 1.65, 'Europe': 1.64}\n",
      "\n",
      "['Quarantine', 'School closure']\n",
      "R_effs: {'Africa': 1.16, 'America': 1.16, 'Asia': 1.15, 'Europe': 1.17}\n",
      "\n",
      "['Quarantine and tracing', 'School closure']\n",
      "R_effs: {'Africa': 0.88, 'America': 0.88, 'Asia': 0.88, 'Europe': 0.89}\n",
      "\n",
      "['Quarantine and tracing', 'School closure', 'Cancel mass gatherings']\n",
      "R_effs: {'Africa': 0.64, 'America': 0.63, 'Asia': 0.63, 'Europe': 0.64}\n",
      "\n",
      "['Quarantine and tracing', 'School closure', 'Cancel mass gatherings', 'Shielding the elderly']\n",
      "R_effs: {'Africa': 0.57, 'America': 0.57, 'Asia': 0.57, 'Europe': 0.57}\n",
      "\n",
      "['Shelter in place']\n",
      "R_effs: {'Africa': 0.88, 'America': 0.88, 'Asia': 0.88, 'Europe': 0.88}\n",
      "\n"
     ]
    }
   ],
   "source": [
    "def combine(selected_npis, npi_impacts, contact_matrix):\n",
    "    \"\"\"Apply selected interventions to a basic contact matrix.\"\"\"\n",
    "    c_eff = contact_matrix.copy()\n",
    "    for npi in selected_npis:\n",
    "        impact = npi_impacts.get(npi, {})\n",
    "        c_eff *= impact.get('chi', 1)\n",
    "        c_eff *= impact.get('cohort_chi', 1)\n",
    "    return c_eff\n",
    "\n",
    "ex_combos = [['School closure', 'Shielding the elderly'],\n",
    "             ['Quarantine', 'School closure'], \n",
    "             ['Quarantine and tracing', 'School closure'],\n",
    "             ['Quarantine and tracing', 'School closure', 'Cancel mass gatherings'],\n",
    "             ['Quarantine and tracing', 'School closure', 'Cancel mass gatherings', 'Shielding the elderly'],\n",
    "             ['Shelter in place']]\n",
    "\n",
    "for combo in ex_combos:\n",
    "    print(combo)\n",
    "    c_effs, R_effs = {}, {}\n",
    "    for region, f in WORLD_POP.items():\n",
    "        c_effs.update({region: combine(combo, npi_impacts, c0s[region])})\n",
    "        R_effs.update({region: compute_R(f, c_effs[region], beta0s[region], GAMMA)})\n",
    "    #print(f'c_effs: {c_effs}\\n')\n",
    "    print(f'R_effs: {R_effs}\\n')"
   ]
  },
  {
   "cell_type": "code",
   "execution_count": null,
   "metadata": {},
   "outputs": [],
   "source": []
  }
 ],
 "metadata": {
  "kernelspec": {
   "display_name": "Python 3",
   "language": "python",
   "name": "python3"
  },
  "language_info": {
   "codemirror_mode": {
    "name": "ipython",
    "version": 3
   },
   "file_extension": ".py",
   "mimetype": "text/x-python",
   "name": "python",
   "nbconvert_exporter": "python",
   "pygments_lexer": "ipython3",
   "version": "3.7.4"
  }
 },
 "nbformat": 4,
 "nbformat_minor": 2
}
